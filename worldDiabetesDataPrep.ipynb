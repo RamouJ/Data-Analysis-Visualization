{
 "cells": [
  {
   "cell_type": "code",
   "execution_count": 26,
   "metadata": {},
   "outputs": [
    {
     "name": "stdout",
     "output_type": "stream",
     "text": [
      "****Original Rows, Cols****\n",
      "(188, 5)\n",
      "****New Column Names****\n",
      "Index(['Country', 'Population', 'Percent Overweight'], dtype='object')\n",
      "****Add a Data Problem Column****\n",
      "Index(['Country', 'Population', 'Percent Overweight', 'Data Problem'], dtype='object')\n",
      "****There are 5 bad rows in the data set****\n",
      "****There are 183 rows after removing the bad ones****\n",
      "****Data types before****\n",
      "Country                object\n",
      "Population            float64\n",
      "Percent Overweight    float64\n",
      "Data Problem           object\n",
      "dtype: object\n",
      "****Data types after****\n",
      "Country               object\n",
      "Population             int32\n",
      "Percent Overweight     int32\n",
      "Data Problem          object\n",
      "dtype: object\n",
      "****There are 183 rows and 3 columns in the final data set****\n",
      "****Final Column Names****\n",
      "Index(['Country', 'Population', 'Percent Overweight'], dtype='object')\n",
      "****Saved prepped DataFrame as worldOverweight_prepped.csv****\n"
     ]
    }
   ],
   "source": [
    "import pandas as pd\n",
    "import numpy as np\n",
    "\n",
    "def isDataGood(population, percent):\n",
    "    isGood =  \"This row has good data\"\n",
    "    if pd.isna(population) or pd.isna(percent):\n",
    "        isGood=\"population or percentOverweight is not valid...\"\n",
    "    if percent < 0: \n",
    "         isGood=\"percentOverweight cannot be negative\"\n",
    "    if population < 500: \n",
    "         isGood=\"population is too small\"\n",
    " \n",
    "    return isGood\n",
    "\n",
    "worldOverweight = pd.read_csv('worldOverweight.csv')\n",
    "\n",
    "print(\"****Original Rows, Cols****\")\n",
    "print(worldOverweight.shape)\n",
    "print(\"****New Column Names****\")\n",
    "worldOverweight = worldOverweight.rename(columns={'Entity':'Country','pop':'Population', 'Indicator:Prevalence of overweight among adults, BMI &GreaterEqual; 25 (crude estimate) (%) - Age Group:18+  years - Sex:Both sexes (%)'\n",
    ": 'Percent Overweight'})\n",
    "worldOverweight = worldOverweight.filter([\"Country\", \"Population\", \"Percent Overweight\", \"Data Problem\"])\n",
    "print(worldOverweight.columns)\n",
    "print(\"****Add a Data Problem Column****\")\n",
    "worldOverweight['Data Problem'] = \"not yet evaluated\"\n",
    "print(worldOverweight.columns)\n",
    "for i in worldOverweight.index:\n",
    "        population = worldOverweight.loc[i,'Population']\n",
    "        percent = worldOverweight.loc[i, 'Percent Overweight']\n",
    "        worldOverweight.loc[i,'Data Problem'] = isDataGood(population, percent)\n",
    "\n",
    "badDataRows = worldOverweight[(worldOverweight[\"Data Problem\"]!=\"This row has good data\")]\n",
    "print(\"****There are {} bad rows in the data set****\".format(badDataRows.shape[0]))\n",
    "worldOverweight = worldOverweight[(worldOverweight[\"Data Problem\"]==\"This row has good data\")]\n",
    "print(\"****There are {} rows after removing the bad ones****\".format(worldOverweight.shape[0]))\n",
    "print(\"****Data types before****\")\n",
    "print(worldOverweight.dtypes)\n",
    "worldOverweight = worldOverweight.astype({\"Population\": int, \"Percent Overweight\": int})\n",
    "print(\"****Data types after****\")\n",
    "print(worldOverweight.dtypes)\n",
    "worldOverweight = worldOverweight.filter(items=['Country','Population','Percent Overweight'])\n",
    "print(\"****There are {} rows and {} columns in the final data set****\".format(worldOverweight.shape[0], worldOverweight.shape[1]))\n",
    "print(\"****Final Column Names****\")\n",
    "print(worldOverweight.columns)\n",
    "newFileName = \"worldOverweight_prepped.csv\"\n",
    "print(\"****Saved prepped DataFrame as {}****\".format(newFileName))\n",
    "worldOverweight.to_csv(newFileName, index=False)"
   ]
  },
  {
   "cell_type": "code",
   "execution_count": null,
   "metadata": {},
   "outputs": [],
   "source": []
  },
  {
   "cell_type": "code",
   "execution_count": null,
   "metadata": {},
   "outputs": [],
   "source": []
  }
 ],
 "metadata": {
  "kernelspec": {
   "display_name": "Python 3",
   "language": "python",
   "name": "python3"
  },
  "language_info": {
   "codemirror_mode": {
    "name": "ipython",
    "version": 3
   },
   "file_extension": ".py",
   "mimetype": "text/x-python",
   "name": "python",
   "nbconvert_exporter": "python",
   "pygments_lexer": "ipython3",
   "version": "3.6.5"
  }
 },
 "nbformat": 4,
 "nbformat_minor": 2
}
